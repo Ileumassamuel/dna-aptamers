{
 "cells": [
  {
   "cell_type": "code",
   "execution_count": 1,
   "id": "4c51330d",
   "metadata": {},
   "outputs": [],
   "source": [
    "import random\n",
    "import numpy as np\n",
    "from nupack import Strand, Complex, ComplexSet, Model, SetSpec, complex_analysis\n",
    "\n",
    "\n",
    "def sequence(length):\n",
    "    return \"\".join(random.choice(\"CGTA\") for _ in range(length))\n",
    "\n",
    "\n",
    "def aptamer_generator(n=1000000, length_lower=20, length_upper=60):\n",
    "    seq_list = []\n",
    "    for i in range(n):\n",
    "        seq_list.append(sequence(random.randint(length_lower, length_upper)))\n",
    "    return seq_list\n",
    "\n",
    "\n",
    "def free_energy(sequences):\n",
    "    temperature = 310.0  # Kelvin\n",
    "    ionic_strength = 1.0  # molar\n",
    "    strands = [Strand(seq, name=f\"strand{idx}\") for idx, seq in enumerate(sequences)]\n",
    "    complexes = [\n",
    "        Complex([strand], name=f\"comp{idx}\") for idx, strand in enumerate(strands)\n",
    "    ]\n",
    "    complex_set = ComplexSet(\n",
    "        strands=strands, complexes=SetSpec(max_size=1, include=complexes)\n",
    "    )\n",
    "    model = Model(material=\"dna\", celsius=temperature - 273, sodium=ionic_strength)\n",
    "    results = complex_analysis(complex_set, model=model, compute=[\"mfe\"])\n",
    "\n",
    "    energies = [results[comp].mfe[0].energy for comp in complexes]\n",
    "    return energies\n",
    "\n",
    "\n",
    "variable_length_sequences = aptamer_generator()\n",
    "\n",
    "variable_length_energy = free_energy(variable_length_sequences)\n",
    "\n",
    "variable_length_dataset = np.column_stack(\n",
    "    (variable_length_sequences, variable_length_energy)\n",
    ")\n",
    "\n",
    "np.savetxt(\n",
    "    \"variable_length_dataset_1M.csv\", variable_length_dataset, delimiter=\",\", fmt=\"%s\"\n",
    ")\n"
   ]
  },
  {
   "cell_type": "code",
   "execution_count": null,
   "id": "dd42ec3e",
   "metadata": {},
   "outputs": [],
   "source": []
  }
 ],
 "metadata": {
  "kernelspec": {
   "display_name": "venv39",
   "language": "python",
   "name": "venv39"
  },
  "language_info": {
   "codemirror_mode": {
    "name": "ipython",
    "version": 3
   },
   "file_extension": ".py",
   "mimetype": "text/x-python",
   "name": "python",
   "nbconvert_exporter": "python",
   "pygments_lexer": "ipython3",
   "version": "3.9.12"
  }
 },
 "nbformat": 4,
 "nbformat_minor": 5
}
